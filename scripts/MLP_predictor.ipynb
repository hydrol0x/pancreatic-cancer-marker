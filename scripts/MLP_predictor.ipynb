{
 "cells": [
  {
   "cell_type": "code",
   "execution_count": null,
   "metadata": {},
   "outputs": [],
   "source": [
    "%load_ext autoreload\n",
    "%autoreload 2\n",
    "\n",
    "import pandas as pd\n",
    "from pathlib import Path"
   ]
  },
  {
   "cell_type": "code",
   "execution_count": null,
   "metadata": {},
   "outputs": [],
   "source": [
    "df = pd.read_csv(Path(r\"../data/biomarker_data.csv\"))\n"
   ]
  },
  {
   "cell_type": "code",
   "execution_count": null,
   "metadata": {},
   "outputs": [],
   "source": [
    "from sklearn.model_selection import train_test_split\n",
    "\n",
    "# x  = df[['creatinine', 'LYVE1', 'REG1B', 'TFF1']] # features\n",
    "x = df[['LYVE1', 'REG1B', 'TFF1', 'creatinine']]  # features\n",
    "\n",
    "df_binary = df.copy()\n",
    "df_binary['diagnosis'] = df['diagnosis'].apply(\n",
    "    lambda x: 0 if x in [1, 2] else 1)  # collapse to binary classification\n",
    "y = df_binary['diagnosis']  # labels\n",
    "\n",
    "x_train, x_test, y_train, y_test = train_test_split(\n",
    "    x, y, test_size=0.2, random_state=42)\n"
   ]
  },
  {
   "cell_type": "code",
   "execution_count": null,
   "metadata": {},
   "outputs": [],
   "source": [
    "from sklearn.neural_network import MLPClassifier\n",
    "\n",
    "clf = MLPClassifier(solver='lbfgs', alpha=1e-5,hidden_layer_sizes=(5, 2), random_state=1)"
   ]
  }
 ],
 "metadata": {
  "kernelspec": {
   "display_name": "SciFair",
   "language": "python",
   "name": "python3"
  },
  "language_info": {
   "name": "python",
   "version": "3.12.0 | packaged by Anaconda, Inc. | (main, Oct  2 2023, 17:20:38) [MSC v.1916 64 bit (AMD64)]"
  },
  "orig_nbformat": 4,
  "vscode": {
   "interpreter": {
    "hash": "325439e5ffc6f53f42e179899736d4ad11994cb3ca0566fb6e367311b901a741"
   }
  }
 },
 "nbformat": 4,
 "nbformat_minor": 2
}
